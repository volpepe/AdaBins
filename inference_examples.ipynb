{
 "cells": [
  {
   "cell_type": "code",
   "execution_count": null,
   "metadata": {},
   "outputs": [],
   "source": [
    "from infer import InferenceHelper\n",
    "from PIL import Image\n",
    "import time\n",
    "import os\n",
    "import numpy as np\n",
    "\n",
    "infer_helper = InferenceHelper(dataset='nyu', pretrained_dir='./pretrained')"
   ]
  },
  {
   "cell_type": "code",
   "execution_count": null,
   "metadata": {
    "scrolled": true
   },
   "outputs": [],
   "source": [
    "infer_helper.predict_dir(\"./test_imgs\", \"./output\", save_img=True)"
   ]
  },
  {
   "cell_type": "code",
   "execution_count": null,
   "metadata": {},
   "outputs": [],
   "source": [
    "def show_img(predicted_depth):\n",
    "    predicted_depth_img = (predicted_depth / predicted_depth.max() * 255).astype(int)\n",
    "    predicted_depth_img = np.uint8(predicted_depth_img[0,0,:,:])\n",
    "    return Image.fromarray(predicted_depth_img)"
   ]
  },
  {
   "cell_type": "code",
   "execution_count": null,
   "metadata": {},
   "outputs": [],
   "source": [
    "# predict depth of a single pillow image\n",
    "img = Image.open(\"test_imgs/classroom__rgb_00283.jpg\")  # any rgb pillow image\n",
    "bin_centers, predicted_depth = infer_helper.predict_pil(img)\n",
    "show_img(predicted_depth)"
   ]
  }
 ],
 "metadata": {
  "kernelspec": {
   "display_name": "Python 3",
   "language": "python",
   "name": "python3"
  },
  "language_info": {
   "codemirror_mode": {
    "name": "ipython",
    "version": 3
   },
   "file_extension": ".py",
   "mimetype": "text/x-python",
   "name": "python",
   "nbconvert_exporter": "python",
   "pygments_lexer": "ipython3",
   "version": "3.7.7"
  }
 },
 "nbformat": 4,
 "nbformat_minor": 4
}
